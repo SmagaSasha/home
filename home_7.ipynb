{
 "nbformat": 4,
 "nbformat_minor": 2,
 "metadata": {
  "language_info": {
   "name": "python",
   "codemirror_mode": {
    "name": "ipython",
    "version": 3
   },
   "version": "3.8.2-final"
  },
  "orig_nbformat": 2,
  "file_extension": ".py",
  "mimetype": "text/x-python",
  "name": "python",
  "npconvert_exporter": "python",
  "pygments_lexer": "ipython3",
  "version": 3,
  "kernelspec": {
   "name": "python38264bit19cdd40241eb43dda9e0e7eb7e48563d",
   "display_name": "Python 3.8.2 64-bit"
  }
 },
 "cells": [
  {
   "cell_type": "code",
   "execution_count": 7,
   "metadata": {},
   "outputs": [
    {
     "output_type": "stream",
     "name": "stdout",
     "text": "Число a  в степені b = 125\n"
    }
   ],
   "source": [
    "\"\"\"Завдання 1\n",
    "\tНапишіть функцію new_power(a, b), де a,b - цілі числа. Функція повинна знаходити a**b та повертати стрічку:\n",
    "\t\"Число a  в степені b = a**b\"\n",
    "\tВиведіть результат функції на екран\n",
    "\n",
    "\tПриклад виконання:\n",
    "\t\t----------------**********----------------\n",
    "\t\tВведіть два цілих числа (через пробіл):\n",
    "\t\n",
    "\n",
    "\t\t>>>> 2 10\n",
    "\n",
    "\t\tЧисло 2 в степені 10 = 1024\t\n",
    "\n",
    "\t\t----------------**********----------------\n",
    "\"\"\"\n",
    "def new_power(a, b):\n",
    "    return a ** b\n",
    "        \n",
    "print(\"Число a  в степені b =\", new_power(5, 3))"
   ]
  },
  {
   "cell_type": "code",
   "execution_count": 50,
   "metadata": {},
   "outputs": [
    {
     "output_type": "stream",
     "name": "stdout",
     "text": "[1, 2, 3] False\n"
    }
   ],
   "source": [
    "\"\"\"Завдання 2\n",
    "\tНапишіть функцію new_sort(*args, r = False), що приймає числа та деякий необов'язковий параметр \"r\" (Якщо True - то сортування в порядку спадання)\n",
    "\tФункція повертає відсортований список\n",
    "\"\"\"\n",
    "\n",
    "def new_sort(*args, r = False):\n",
    "    print(sorted([1,2,3]),r)\n",
    "    \n",
    "new_sort(1, 2, 4, r = False)\n",
    ""
   ]
  },
  {
   "cell_type": "code",
   "execution_count": null,
   "metadata": {},
   "outputs": [],
   "source": [
    "\"\"\"Завдання 3\n",
    "\tНапишіть функцію fac(N), що повертає факторіал числа N. \n",
    "\tФакторіал числа це добуток чисел від 1 до N\t(N! = 1*2*3*...*N)\n",
    "\tРеалізуйте дану функцію двома способами: \n",
    "\t\t- за допомогою циклу\n",
    "\t\t- за допомогою рекурсії\n",
    "\n",
    "\tНе використовуйте бібліотеку math :)\n",
    "\"\"\"\n"
   ]
  },
  {
   "cell_type": "code",
   "execution_count": 19,
   "metadata": {},
   "outputs": [
    {
     "output_type": "stream",
     "name": "stdout",
     "text": "Help on built-in function sorted in module builtins:\n\nsorted(iterable, /, *, key=None, reverse=False)\n    Return a new list containing all items from the iterable in ascending order.\n    \n    A custom key function can be supplied to customize the sort order, and the\n    reverse flag can be set to request the result in descending order.\n\n"
    }
   ],
   "source": [
    "help(sorted)"
   ]
  }
 ]
}