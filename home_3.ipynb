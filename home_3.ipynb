{
 "nbformat": 4,
 "nbformat_minor": 2,
 "metadata": {
  "language_info": {
   "name": "python",
   "codemirror_mode": {
    "name": "ipython",
    "version": 3
   },
   "version": "3.8.2-final"
  },
  "orig_nbformat": 2,
  "file_extension": ".py",
  "mimetype": "text/x-python",
  "name": "python",
  "npconvert_exporter": "python",
  "pygments_lexer": "ipython3",
  "version": 3,
  "kernelspec": {
   "name": "python38264bit19cdd40241eb43dda9e0e7eb7e48563d",
   "display_name": "Python 3.8.2 64-bit"
  }
 },
 "cells": [
  {
   "cell_type": "code",
   "execution_count": 8,
   "metadata": {},
   "outputs": [
    {
     "output_type": "stream",
     "name": "stdout",
     "text": "-2\n"
    }
   ],
   "source": [
    "'''test 2 Завдання 1\n",
    "   Дано ціле число. Якщо воно додатнє, то помножити його на 2; в іншому випадку не змінювати його.\n",
    "   Вивести кінцеве значення.\n",
    "'''\n",
    "a = int(input())\n",
    "\n",
    "if a > 0:\n",
    "   print(a * 2)\n",
    "else:\n",
    "   print(a)\n",
    "   "
   ]
  },
  {
   "cell_type": "code",
   "execution_count": 13,
   "metadata": {},
   "outputs": [
    {
     "output_type": "stream",
     "name": "stdout",
     "text": "0 0\n"
    }
   ],
   "source": [
    "'''Завдання 2\n",
    "   Дано два цілих числа. Якщо вони рівні, то присвоїти цим змінним нулі;\n",
    "   в іншому випадку  - кожній змінній присвоїти суму цих значень.\n",
    "'''  \n",
    "a = int(input())\n",
    "b = int(input())\n",
    "\n",
    "if a == b:\n",
    "   a = 0\n",
    "   b = 0\n",
    "else:\n",
    "   x = a + b\n",
    "   a = x\n",
    "   b = x\n",
    "print(a, b)"
   ]
  },
  {
   "cell_type": "code",
   "execution_count": 33,
   "metadata": {},
   "outputs": [
    {
     "output_type": "error",
     "ename": "NameError",
     "evalue": "name 'c' is not defined",
     "traceback": [
      "\u001b[0;31m---------------------------------------------------------------------------\u001b[0m",
      "\u001b[0;31mNameError\u001b[0m                                 Traceback (most recent call last)",
      "\u001b[0;32m<ipython-input-33-aaf04cfbcb99>\u001b[0m in \u001b[0;36m<module>\u001b[0;34m\u001b[0m\n\u001b[1;32m     12\u001b[0m    \u001b[0mprint\u001b[0m\u001b[0;34m(\u001b[0m\u001b[0ma\u001b[0m \u001b[0;34m+\u001b[0m \u001b[0mc\u001b[0m\u001b[0;34m)\u001b[0m\u001b[0;34m\u001b[0m\u001b[0;34m\u001b[0m\u001b[0m\n\u001b[1;32m     13\u001b[0m \u001b[0;32melse\u001b[0m\u001b[0;34m:\u001b[0m\u001b[0;34m\u001b[0m\u001b[0;34m\u001b[0m\u001b[0m\n\u001b[0;32m---> 14\u001b[0;31m    \u001b[0mprint\u001b[0m\u001b[0;34m(\u001b[0m\u001b[0mb\u001b[0m \u001b[0;34m+\u001b[0m \u001b[0mc\u001b[0m\u001b[0;34m)\u001b[0m\u001b[0;34m\u001b[0m\u001b[0;34m\u001b[0m\u001b[0m\n\u001b[0m",
      "\u001b[0;31mNameError\u001b[0m: name 'c' is not defined"
     ]
    }
   ],
   "source": [
    "'''Завдання 3\n",
    "   Дано три цілих числа. Знайти суму двох найбільших із них.\n",
    "'''\n",
    "a = int(input())\n",
    "b = int(input())\n",
    "с = int(input())\n",
    "\n",
    "\n",
    "if a > b and b > c:\n",
    "   print(a + b)\n",
    "elif a > b and c > b: \n",
    "   print(a + c)\n",
    "else:\n",
    "   print(b + c)\n",
    "   "
   ]
  },
  {
   "cell_type": "code",
   "execution_count": null,
   "metadata": {},
   "outputs": [],
   "source": []
  },
  {
   "cell_type": "code",
   "execution_count": null,
   "metadata": {},
   "outputs": [],
   "source": [
    "'''Завдання 4\n",
    "   Дана стрічка. Якщо в цій стрічці відсутня буква \"a\", вивести \"False\".\n",
    "   Якщо буква зустрічається один раз - вивести її індекс.\n",
    "   Якщо більше одного разу - вивести індекс першого та останнього входження.\n",
    "'''\n",
    "\n",
    " \n"
   ]
  },
  {
   "cell_type": "code",
   "execution_count": null,
   "metadata": {},
   "outputs": [],
   "source": [
    "'''Завдання 5\n",
    "   Дано одне число Price - ціна на 1 кг апельсин. \n",
    "   Вивести вартість 1, 2, ... , 10 кг апельсин.\n",
    "   (Спробуйте вирішити задачу двома способами: циклом FOR та циклом WHILE)\n",
    "''' \n",
    " \n"
   ]
  },
  {
   "cell_type": "code",
   "execution_count": null,
   "metadata": {},
   "outputs": [],
   "source": [
    "'''Завдання 6\n",
    "    Дано ціле число. Для цього числа виведіть сходинки.\n",
    "    Наприклад, для числа 5 результат наступний:\n",
    "        #\n",
    "        ##\n",
    "        ###\n",
    "        ####\n",
    "        #####\n",
    "'''\n",
    "\n",
    " \n"
   ]
  },
  {
   "cell_type": "code",
   "execution_count": null,
   "metadata": {},
   "outputs": [],
   "source": [
    "'''Завдання 7\n",
    "    Виведіть суму всіх непарних чисел, що кратні 5, в діапазоні від 0 до 1000.\n",
    "'''\n",
    "\n",
    "    \n"
   ]
  },
  {
   "cell_type": "code",
   "execution_count": null,
   "metadata": {},
   "outputs": [],
   "source": [
    "'''Завдання 8\n",
    "    На карантині я розпочав бігові тренування. В перший день пробіг 500 метрів.\n",
    "    Кожний наступний день дистанцію збільшую на 10%. Відомо, що карантин триває 30 днів.\n",
    "    - Яку дистанцію я пробіжу в останній день карантину?\n",
    "    - Скільки днів потрібно бігати, щоб сумарна дистанція за всі дні \n",
    "    перевищила довжину марафону (42 км)?\n",
    "'''\n",
    "\n"
   ]
  },
  {
   "cell_type": "code",
   "execution_count": null,
   "metadata": {},
   "outputs": [],
   "source": [
    "'''Завдання 9\n",
    "   Виведіть добуток всіх цілих чисел для послідовності -23, -22, -21, -20, ..., 8, 9, 10, 11, 12\n",
    "   Програми помістіть на ГітХаб у папку Homework3\n",
    "   Завдання підвищеної складності\n",
    "'''\n"
   ]
  },
  {
   "cell_type": "code",
   "execution_count": null,
   "metadata": {},
   "outputs": [],
   "source": [
    "'''Завдання 10*\n",
    "   Вивести N-елементів послідовності чисел Фібоначчі\n",
    "   (Послідовність, де кожен наступний елемент дорівнює сумі двох попередніх;\n",
    "   перший та другий член послідовності дорівнює 1;\n",
    "   Приклад: 1, 1, 2, 3, 5, 8, 13, 21, 34, 55 ...)\n",
    "'''\n",
    "\n"
   ]
  },
  {
   "cell_type": "code",
   "execution_count": null,
   "metadata": {},
   "outputs": [],
   "source": [
    "'''Завдання 11*\n",
    "   Перевірити, чи натуральне число N є просте.\n",
    "   (Число називається просте - якщо кількість його дільників становить два:\n",
    "   одиниця і саме число)\n",
    "'''        "
   ]
  }
 ]
}