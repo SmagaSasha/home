{
 "nbformat": 4,
 "nbformat_minor": 2,
 "metadata": {
  "language_info": {
   "name": "python",
   "codemirror_mode": {
    "name": "ipython",
    "version": 3
   }
  },
  "orig_nbformat": 2,
  "file_extension": ".py",
  "mimetype": "text/x-python",
  "name": "python",
  "npconvert_exporter": "python",
  "pygments_lexer": "ipython3",
  "version": 3
 },
 "cells": [
  {
   "cell_type": "code",
   "execution_count": null,
   "metadata": {},
   "outputs": [],
   "source": [
    "'''Завдання 1\n",
    "\tКористувач вводить назву файлу(стрічка). Якщо назва допустима, то створіть пустий файл з цією назвою.\n",
    "\tЯкщо ні - виведіть повідомлення \"Назва недопустима\"\n",
    "\t(використайте обробку помилок try-except)\n",
    "'''\n"
   ]
  },
  {
   "cell_type": "code",
   "execution_count": null,
   "metadata": {},
   "outputs": [],
   "source": [
    "'''Завдання 2\n",
    "\tДано два цілих числа N, K\n",
    "\tСтворіть текстовий файл. Запишіть у нього N рядків, кожна із яких складається із K символів \"*\" (зірочка)\n",
    "'''\n",
    "\n"
   ]
  },
  {
   "cell_type": "code",
   "execution_count": null,
   "metadata": {},
   "outputs": [],
   "source": [
    "'''Завдання 3\n",
    "\tУ вас є файл із текстом.\n",
    "\tВидаліть перший рядок із файлу.\n",
    "'''\n",
    "\n"
   ]
  },
  {
   "cell_type": "code",
   "execution_count": null,
   "metadata": {},
   "outputs": [],
   "source": [
    "'''Завдання 4\n",
    "\tУ вас є файл із текстом.\n",
    "\tУ кожному рядку даного файлу видаліть K(натуральне число) символів.\n",
    "'''\n"
   ]
  },
  {
   "cell_type": "code",
   "execution_count": null,
   "metadata": {},
   "outputs": [],
   "source": [
    "'''Завдання 5\n",
    "    Напишіть інструкції, що викликають наступні помилки:\n",
    "\t- SyntaxError\n",
    "\t- IndentationError\n",
    "\t- NameError\n",
    "\t- IndexError\n",
    "\t- KeyError\n",
    "\t- ImportError\n",
    "\t- AttirbuteError\n",
    "\t- ZeroDivisionError\n",
    "\t- RuntimeError\n",
    "'''"
   ]
  }
 ]
}