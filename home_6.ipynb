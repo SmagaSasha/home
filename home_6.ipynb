{
 "nbformat": 4,
 "nbformat_minor": 2,
 "metadata": {
  "language_info": {
   "name": "python",
   "codemirror_mode": {
    "name": "ipython",
    "version": 3
   },
   "version": "3.8.2-final"
  },
  "orig_nbformat": 2,
  "file_extension": ".py",
  "mimetype": "text/x-python",
  "name": "python",
  "npconvert_exporter": "python",
  "pygments_lexer": "ipython3",
  "version": 3,
  "kernelspec": {
   "name": "python38264bit19cdd40241eb43dda9e0e7eb7e48563d",
   "display_name": "Python 3.8.2 64-bit"
  }
 },
 "cells": [
  {
   "cell_type": "code",
   "execution_count": null,
   "metadata": {},
   "outputs": [],
   "source": [
    "'''Завантажте файл \"Homework-06-base.txt\" із мого репозиторію.\n",
    "    У файлі мітиться інформація про товарні позиції деякого інтернет-магазину, а саме:\n",
    "\tАриткул - унікальний номер товарної позиції\n",
    "\tНайменування - найменування товару\n",
    "\tНаявність - чи є товарна позиція в даний момент\n",
    "\tЦіна - вартість товарної позиції\n",
    "\n",
    "Завдання 1\n",
    "\tВам потрібно отримати таку інформацію:\n",
    "\t- кількість товарних позицій у файлі\n",
    "\t- кількість товарних позицій, що в наявності\n",
    "    - ціна та назва найдорожчої товарної позиції \n",
    "\n",
    "Завдання 2\n",
    "\tІнформацію із файлу запишіть у словник, де ключем буде артикул, а значення для ключа - список, що містить три елементи: Найменування, Наявність, Ціна\n",
    "\tДаний словник серіалізуйте за допомогою бібліотеки:\n",
    "\t- pickle\n",
    "\t- json\n",
    "\tЗбережіть ці файли.\n",
    "\n",
    "Завдання 3\n",
    "\tВідкрийте серіалізований файл (що ви зробили вище). \n",
    "\tНапишіть програму, що запитує артикул товарної позиції, а повертає стрічку json\n",
    "\tПриклад програми:\n",
    "        \t\n",
    "\t\tВведіть артикул запчастини:\n",
    "\n",
    "\t\t>>>>3963\n",
    "\t\t\n",
    "        {'part' : '3963', 'name' : 'Очиститель двигателя (спрей) Liqui Moly 0.4л',  'status' : 'В наличии', 'price' :'277 грн'}\n",
    "\n",
    "Завдання 4\n",
    "\tЗнайдіть всі товари, у яких аромат яблука, та виведіть їх. \n",
    "\t(Врахуйте що слово \"яблоко\" може відмінятися в залежності від речення)\n",
    "'''\n",
    "\t\t"
   ]
  },
  {
   "cell_type": "code",
   "execution_count": 22,
   "metadata": {
    "tags": [
     "outputPrepend"
    ]
   },
   "outputs": [
    {
     "output_type": "stream",
     "name": "stdout",
     "text": "количество товаров\n426\n353\n"
    }
   ],
   "source": [
    "# Разбиваем по разделитилю и создаем список\n",
    "\n",
    "with open(\"base.txt\") as f:\n",
    "    dict = [i.strip().split(\" | \") for i in f.readlines()]\n",
    "\n",
    "\n",
    "# Счтитаем количество строк\n",
    "\n",
    "lines = 0\n",
    "k = 0\n",
    "l = 0\n",
    "print('количество товаров')\n",
    "for line in dict:\n",
    "    lines += 1\n",
    "vsego_tovarov = lines-1\n",
    "print(vsego_tovarov)\n",
    "\n",
    "\n",
    "# Cчитаем количество товара с признаком \"В наличии\"\n",
    "\n",
    "for j in dict:\n",
    "    for i in j:\n",
    "        if \"Нет в наличии\" in i:\n",
    "            k += 1\n",
    "v_nalichii = vsego_tovarov - k\n",
    "print(v_nalichii)\n",
    "\n",
    "# Самый дорогой товар\n",
    "\n",
    "\n"
   ]
  },
  {
   "cell_type": "code",
   "execution_count": null,
   "metadata": {},
   "outputs": [],
   "source": [
    "for k in dict:\n",
    "    if \"В наличии\" in k:\n",
    "        l += 1\n",
    "print( \"Количество товаров в наличии\", l)"
   ]
  }
 ]
}