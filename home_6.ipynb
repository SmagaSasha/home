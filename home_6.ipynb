{
 "nbformat": 4,
 "nbformat_minor": 2,
 "metadata": {
  "language_info": {
   "name": "python",
   "codemirror_mode": {
    "name": "ipython",
    "version": 3
   },
   "version": "3.8.2-final"
  },
  "orig_nbformat": 2,
  "file_extension": ".py",
  "mimetype": "text/x-python",
  "name": "python",
  "npconvert_exporter": "python",
  "pygments_lexer": "ipython3",
  "version": 3,
  "kernelspec": {
   "name": "python38232bit02b07267226e42538866bcb9b7b20f50",
   "display_name": "Python 3.8.2 32-bit"
  }
 },
 "cells": [
  {
   "cell_type": "code",
   "execution_count": null,
   "metadata": {},
   "outputs": [],
   "source": [
    "'''Завантажте файл \"Homework-06-base.txt\" із мого репозиторію.\n",
    "    У файлі мітиться інформація про товарні позиції деякого інтернет-магазину, а саме:\n",
    "\tАриткул - унікальний номер товарної позиції\n",
    "\tНайменування - найменування товару\n",
    "\tНаявність - чи є товарна позиція в даний момент\n",
    "\tЦіна - вартість товарної позиції\n",
    "\n",
    "Завдання 1\n",
    "\tВам потрібно отримати таку інформацію:\n",
    "\t- кількість товарних позицій у файлі\n",
    "\t- кількість товарних позицій, що в наявності\n",
    "    - ціна та назва найдорожчої товарної позиції \n",
    "\n",
    "Завдання 2\n",
    "\tІнформацію із файлу запишіть у словник, де ключем буде артикул, а значення для ключа - список, що містить три елементи: Найменування, Наявність, Ціна\n",
    "\tДаний словник серіалізуйте за допомогою бібліотеки:\n",
    "\t- pickle\n",
    "\t- json\n",
    "\tЗбережіть ці файли.\n",
    "\n",
    "Завдання 3\n",
    "\tВідкрийте серіалізований файл (що ви зробили вище). \n",
    "\tНапишіть програму, що запитує артикул товарної позиції, а повертає стрічку json\n",
    "\tПриклад програми:\n",
    "        \t\n",
    "\t\tВведіть артикул запчастини:\n",
    "\n",
    "\t\t>>>>3963\n",
    "\t\t\n",
    "        {'part' : '3963', 'name' : 'Очиститель двигателя (спрей) Liqui Moly 0.4л',  'status' : 'В наличии', 'price' :'277 грн'}\n",
    "\n",
    "Завдання 4\n",
    "\tЗнайдіть всі товари, у яких аромат яблука, та виведіть їх. \n",
    "\t(Врахуйте що слово \"яблоко\" може відмінятися в залежності від речення)\n",
    "'''\n",
    "\t\t"
   ]
  },
  {
   "cell_type": "code",
   "execution_count": 6,
   "metadata": {
    "tags": [
     "outputPrepend"
    ]
   },
   "outputs": [
    {
     "output_type": "stream",
     "name": "stdout",
     "text": "количество товаров\n426\n426\n"
    }
   ],
   "source": [
    "# Разбиваем по разделитилю и создаем список\n",
    "\n",
    "with open(\"base.txt\") as f:\n",
    "    dict = [i.strip().split(\" | \") for i in f.readlines()]\n",
    "\n",
    "\n",
    "# Счтитаем количество строк\n",
    "\n",
    "lines = 0\n",
    "k = 0\n",
    "l = 0\n",
    "print('количество товаров')\n",
    "for line in dict:\n",
    "    lines += 1\n",
    "vsego_tovarov = lines-1\n",
    "print(vsego_tovarov)\n",
    "\n",
    "\n",
    "# Cчитаем количество товара с признаком \"В наличии\"\n",
    "\n",
    "for j in dict:\n",
    "    for i in j:\n",
    "        if \"Нет в наличии\" in i:\n",
    "            k += 1\n",
    "v_nalichii = vsego_tovarov - k\n",
    "print(v_nalichii)\n",
    "\n",
    "# Самый дорогой товар\n",
    "\n",
    "\n",
    ""
   ]
  },
  {
   "cell_type": "code",
   "execution_count": 63,
   "metadata": {},
   "outputs": [
    {
     "output_type": "stream",
     "name": "stdout",
     "text": "426\n"
    },
    {
     "output_type": "execute_result",
     "data": {
      "text/plain": "353"
     },
     "metadata": {},
     "execution_count": 63
    }
   ],
   "source": [
    "# создаем словарь с данными из файла\n",
    "dict = {i.strip().split(\"|\")[0] : i.strip().split(\"|\")[1:] for i in open(\"base.txt\",encoding=\"utf-8\")}\n",
    "\n",
    "# считаем общее колычество артикулов в файле\n",
    "qty_art = (len(dict)-1)\n",
    "print(qty_art)\n",
    "\n",
    "# считаем колычество артикулов которые в наличии\n",
    "v_nalichii_2 = []\n",
    "for i, j in dict.items():\n",
    "    if \"В наличии\" in j:\n",
    "        v_nalichii_2.append(j)\n",
    "len(v_nalichii_2)\n",
    "\n",
    "\n",
    ""
   ]
  },
  {
   "cell_type": "code",
   "execution_count": 81,
   "metadata": {},
   "outputs": [
    {
     "output_type": "error",
     "ename": "IndentationError",
     "evalue": "expected an indented block (<ipython-input-81-757440fb77ed>, line 13)",
     "traceback": [
      "\u001b[1;36m  File \u001b[1;32m\"<ipython-input-81-757440fb77ed>\"\u001b[1;36m, line \u001b[1;32m13\u001b[0m\n\u001b[1;33m    max + = 1\u001b[0m\n\u001b[1;37m    ^\u001b[0m\n\u001b[1;31mIndentationError\u001b[0m\u001b[1;31m:\u001b[0m expected an indented block\n"
     ]
    }
   ],
   "source": [
    "\n",
    "f = open(\"test.txt\", encoding=\"UTF-8\")\n",
    "\n",
    "d = {}\n",
    "\n",
    "for i in f:\n",
    "    tmp = i.strip().split(\"|\")\n",
    "    d[tmp[0]] = tmp[1:]\n",
    "    \n",
    "f.close()\n",
    "max = 0\n",
    "for key in d:\n",
    "    if max > (d[key][1:]):\n",
    "    \n",
    "\n",
    "\n",
    "    print(key, d[key][1:])"
   ]
  },
  {
   "cell_type": "code",
   "execution_count": 57,
   "metadata": {
    "tags": [
     "outputPrepend"
    ]
   },
   "outputs": [
    {
     "output_type": "stream",
     "name": "stdout",
     "text": "426\n"
    },
    {
     "output_type": "execute_result",
     "data": {
      "text/plain": "353"
     },
     "metadata": {},
     "execution_count": 57
    }
   ],
   "source": []
  }
 ]
}