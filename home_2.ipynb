{
 "nbformat": 4,
 "nbformat_minor": 2,
 "metadata": {
  "language_info": {
   "name": "python",
   "codemirror_mode": {
    "name": "ipython",
    "version": 3
   },
   "version": "3.8.2-final"
  },
  "orig_nbformat": 2,
  "file_extension": ".py",
  "mimetype": "text/x-python",
  "name": "python",
  "npconvert_exporter": "python",
  "pygments_lexer": "ipython3",
  "version": 3,
  "kernelspec": {
   "name": "python38232bit02b07267226e42538866bcb9b7b20f50",
   "display_name": "Python 3.8.2 32-bit"
  }
 },
 "cells": [
  {
   "cell_type": "code",
   "execution_count": 11,
   "metadata": {},
   "outputs": [
    {
     "output_type": "stream",
     "name": "stdout",
     "text": "True\nTrue\nFalse\n"
    }
   ],
   "source": [
    "'''Завдання 1\n",
    "    Задано деякі числа A та B (int):\n",
    "        - Перевірити умову: \"Число A є додатнє\"\n",
    "        - Перевірити умову: \"Число A парне\"\n",
    "        - Перевірити умову: \"Число A кратне 13\"\n",
    "        - Перевірити умову: \"Кожне із чисел A та B - парне\"\n",
    "        - Перевірити умову: \"Кожне із чисел A та B мають однакову парність\n",
    "\"'''\n",
    "\n",
    "a = int(input())\n",
    "b = int(input())\n",
    "\n",
    "print(a > 0)\n",
    "print(a % 2 == 0)\n",
    "print(a % 13 == 0)\n",
    "print(a % 2 == 0, b % 2 == 0)\n",
    "print((a % 2 == ) == (b % 2 == ))\n",
    "\n"
   ]
  },
  {
   "cell_type": "code",
   "execution_count": 44,
   "metadata": {},
   "outputs": [
    {
     "output_type": "execute_result",
     "data": {
      "text/plain": "True"
     },
     "metadata": {},
     "execution_count": 44
    }
   ],
   "source": [
    "'''Завдання 2\n",
    "    Задано деякий пароль Pass (str). Перевірити чи пароль \"сильний\" \n",
    "    (пароль будемо вважати \"сильним\", якщо він складається з 8 символів (або більше) та містить символ @ або # )\n",
    "    Програма повертає True або False\n",
    "'''\n",
    "\n",
    "Pass = str(input())\n",
    "\n",
    "len(Pass) > 8 and \"@\" in Pass or \"#\" in Pass\n",
    "\n"
   ]
  },
  {
   "cell_type": "code",
   "execution_count": 70,
   "metadata": {},
   "outputs": [
    {
     "output_type": "stream",
     "name": "stdout",
     "text": "c a\n"
    }
   ],
   "source": [
    "'''Завдання 3\n",
    "    Дано деякий символ Char. Вивести символи, що ідуть перед та після символу Char в кодовій таблиці ASCII\n",
    "'''\n",
    "\n",
    "Char = str(input())\n",
    "ord(Char)  \n",
    "\n",
    "do = chr(ord(Char)+1)\n",
    "posle = chr(ord(Char)-1)\n",
    "\n",
    "print (do, posle)\n",
    "\n"
   ]
  },
  {
   "cell_type": "code",
   "execution_count": 72,
   "metadata": {},
   "outputs": [
    {
     "output_type": "stream",
     "name": "stdout",
     "text": "owT enO\n"
    }
   ],
   "source": [
    "'''Завдання 4\n",
    "    Дана стрічка, що складається із двох слів розділених пробілом.\n",
    "    Слова та порядок букв в словах поміняйте місцями.\n",
    "    (Наприклад, \"One Two\" --> \"owT enO\")\n",
    "'''\n",
    "s = 'One Two'\n",
    "\n",
    "print(s[::-1])\n",
    "\n",
    "\n",
    ""
   ]
  }
 ]
}